{
 "cells": [
  {
   "cell_type": "markdown",
   "id": "3e7cbb2c",
   "metadata": {},
   "source": [
    "## 📦 Import Required Libraries  \n",
    "Importing all the necessary libraries for data processing, visualization, natural language processing (NLP), and model building.\n"
   ]
  },
  {
   "cell_type": "code",
   "execution_count": null,
   "id": "b72a0bc7",
   "metadata": {},
   "outputs": [],
   "source": [
    "#Importing all the libraries to be used\n",
    "import string\n",
    "import nltk\n",
    "import numpy as np\n",
    "import pandas as pd\n",
    "import seaborn as sns\n",
    "import matplotlib.pyplot as plt\n",
    "from nltk.corpus import stopwords\n",
    "from nltk.stem.porter import PorterStemmer\n",
    "from wordcloud import WordCloud\n",
    "from collections import Counter\n",
    "from sklearn.preprocessing import LabelEncoder\n",
    "\n",
    "from sklearn.model_selection import train_test_split\n",
    "from sklearn.feature_extraction.text import CountVectorizer\n",
    "from sklearn.ensemble import RandomForestClassifier\n",
    "from sklearn.metrics import accuracy_score, confusion_matrix, classification_report\n",
    "import warnings\n",
    "warnings.filterwarnings(\"ignore\")"
   ]
  },
  {
   "cell_type": "markdown",
   "id": "c45467f3",
   "metadata": {},
   "source": [
    "## 📥 Load Dataset and Preview Shape  \n",
    "Loading the SMS Spam Collection dataset and selecting only the relevant columns (`v1` as label and `v2` as message text). Displaying the shape of the dataset.\n"
   ]
  },
  {
   "cell_type": "code",
   "execution_count": null,
   "id": "3e45ca9f",
   "metadata": {},
   "outputs": [],
   "source": [
    "df = pd.read_csv('data/spam.csv', encoding='latin-1')[['v1', 'v2']]\n",
    "df.shape\n"
   ]
  },
  {
   "cell_type": "markdown",
   "id": "8954873a",
   "metadata": {},
   "source": [
    "## 📊 Visualize Class Distribution  \n",
    "Plotting the count of each class (ham vs spam) to visualize data imbalance and distribution of target labels."
   ]
  },
  {
   "cell_type": "code",
   "execution_count": null,
   "id": "83475bfb",
   "metadata": {
    "scrolled": true
   },
   "outputs": [],
   "source": [
    "#Palette\n",
    "cols= [\"#4CAF50\", \"#E598D8\"] \n",
    "#first of all let us evaluate the target and find out if our data is imbalanced or not\n",
    "plt.figure(figsize=(12,8))\n",
    "fg = sns.countplot(x= df[\"v1\"], palette= cols)\n",
    "fg.set_title(\"Count Plot of Classes\", color=\"#58508d\")\n",
    "fg.set_xlabel(\"Classes\", color=\"#58508d\")\n",
    "fg.set_ylabel(\"Number of Data points\", color=\"#58508d\")\n",
    "plt.show()"
   ]
  },
  {
   "cell_type": "markdown",
   "id": "388f03ff",
   "metadata": {},
   "source": [
    "## ⚠️ Precision Over Accuracy  \n",
    "Since the dataset is imbalanced, we prioritize **precision** over accuracy during evaluation, as accuracy can be misleading in such scenarios.\n"
   ]
  },
  {
   "cell_type": "code",
   "execution_count": null,
   "id": "12f16a4d",
   "metadata": {},
   "outputs": [],
   "source": [
    "df.info()"
   ]
  },
  {
   "cell_type": "markdown",
   "id": "89e8eb79",
   "metadata": {},
   "source": [
    "## 🔍 Sample Records  \n",
    "Previewing 5 random samples from the dataset to get a better understanding of the data.\n"
   ]
  },
  {
   "cell_type": "code",
   "execution_count": null,
   "id": "54fc84b5",
   "metadata": {},
   "outputs": [],
   "source": [
    "df.sample(5)"
   ]
  },
  {
   "cell_type": "markdown",
   "id": "daaddf8f",
   "metadata": {},
   "source": [
    "## 🏷️ Rename Columns  \n",
    "Renaming the columns for clarity: `v1` becomes `target`, and `v2` becomes `text`.\n"
   ]
  },
  {
   "cell_type": "code",
   "execution_count": null,
   "id": "81311a45",
   "metadata": {},
   "outputs": [],
   "source": [
    "df.rename(columns={'v1':'target','v2':'text'},inplace=True)\n",
    "df.head()"
   ]
  },
  {
   "cell_type": "markdown",
   "id": "4c47fd86",
   "metadata": {},
   "source": [
    "## 🔢 Encode Target Labels  \n",
    "Encoding the categorical labels into numeric format: `ham` becomes 0 and `spam` becomes 1.\n"
   ]
  },
  {
   "cell_type": "code",
   "execution_count": null,
   "id": "3b5a2f2c",
   "metadata": {},
   "outputs": [],
   "source": [
    "encoder=LabelEncoder()\n",
    "df['target']=encoder.fit_transform(df['target'])\n",
    "df.head()"
   ]
  },
  {
   "cell_type": "markdown",
   "id": "ab707213",
   "metadata": {},
   "source": [
    "## 📋 Check and Remove Duplicates  \n",
    "Identifying and removing duplicate rows to ensure data quality and avoid data leakage.\n"
   ]
  },
  {
   "cell_type": "code",
   "execution_count": null,
   "id": "37d6754f",
   "metadata": {},
   "outputs": [],
   "source": [
    "df.duplicated().sum()"
   ]
  },
  {
   "cell_type": "code",
   "execution_count": 10,
   "id": "55a683b8",
   "metadata": {},
   "outputs": [],
   "source": [
    "df.drop_duplicates(inplace=True)"
   ]
  },
  {
   "cell_type": "markdown",
   "id": "d97b6df4",
   "metadata": {},
   "source": [
    "## 🧠 Text Vectorization  \n",
    "Converting the message text into a bag-of-words model using CountVectorizer, which turns text into numerical vectors.\n"
   ]
  },
  {
   "cell_type": "code",
   "execution_count": 19,
   "id": "d7f3785b",
   "metadata": {},
   "outputs": [],
   "source": [
    "# Tokenize & Vectorize\n",
    "vectorizer = CountVectorizer()\n",
    "X = vectorizer.fit_transform(df['text'])\n",
    "y = df['target']\n"
   ]
  },
  {
   "cell_type": "markdown",
   "id": "489816fb",
   "metadata": {},
   "source": [
    "## 🔀 Split Dataset  \n",
    "Splitting the data into training and testing sets with an 80-20 ratio to evaluate model generalization.\n"
   ]
  },
  {
   "cell_type": "code",
   "execution_count": 20,
   "id": "611ca058",
   "metadata": {},
   "outputs": [],
   "source": [
    "# Train/Test Split\n",
    "X_train, X_test, y_train, y_test = train_test_split(X, y, test_size=0.2, random_state=42)\n"
   ]
  },
  {
   "cell_type": "markdown",
   "id": "092b1341",
   "metadata": {},
   "source": [
    "## 🌲 Train Random Forest Model  \n",
    "Training a Random Forest Classifier with 100 estimators on the training data to predict spam messages.\n"
   ]
  },
  {
   "cell_type": "code",
   "execution_count": null,
   "id": "c6c0e01f",
   "metadata": {},
   "outputs": [],
   "source": [
    "#  Train Random Forest Model\n",
    "model = RandomForestClassifier(n_estimators=100, random_state=42)\n",
    "model.fit(X_train, y_train)"
   ]
  },
  {
   "cell_type": "markdown",
   "id": "238e85df",
   "metadata": {},
   "source": [
    "## 📈 Evaluate Model Performance  \n",
    "Evaluating model predictions using accuracy, confusion matrix, and classification report. Visualizing the confusion matrix with a heatmap.\n"
   ]
  },
  {
   "cell_type": "code",
   "execution_count": null,
   "id": "a466f7f6",
   "metadata": {},
   "outputs": [],
   "source": [
    "#  Evaluate Model\n",
    "y_pred = model.predict(X_test)\n",
    "\n",
    "print(\"Accuracy:\", accuracy_score(y_test, y_pred))\n",
    "print(\"\\nConfusion Matrix:\\n\", confusion_matrix(y_test, y_pred))\n",
    "print(\"\\nClassification Report:\\n\", classification_report(y_test, y_pred))"
   ]
  },
  {
   "cell_type": "code",
   "execution_count": null,
   "id": "4306569c",
   "metadata": {},
   "outputs": [],
   "source": [
    "sns.heatmap(confusion_matrix(y_test, y_pred), annot=True, fmt='d', cmap='Blues')\n",
    "plt.xlabel(\"Predicted\")\n",
    "plt.ylabel(\"Actual\")\n",
    "plt.title(\"Confusion Matrix\")\n",
    "plt.show()\n"
   ]
  },
  {
   "cell_type": "code",
   "execution_count": null,
   "id": "100aa71a",
   "metadata": {},
   "outputs": [],
   "source": []
  }
 ],
 "metadata": {
  "kernelspec": {
   "display_name": "Python 3",
   "language": "python",
   "name": "python3"
  },
  "language_info": {
   "codemirror_mode": {
    "name": "ipython",
    "version": 3
   },
   "file_extension": ".py",
   "mimetype": "text/x-python",
   "name": "python",
   "nbconvert_exporter": "python",
   "pygments_lexer": "ipython3",
   "version": "3.13.2"
  }
 },
 "nbformat": 4,
 "nbformat_minor": 5
}
